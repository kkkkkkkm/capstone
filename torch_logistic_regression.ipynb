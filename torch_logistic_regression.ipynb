{
  "nbformat": 4,
  "nbformat_minor": 0,
  "metadata": {
    "colab": {
      "name": "torch logistic regression.ipynb",
      "provenance": [],
      "authorship_tag": "ABX9TyM70WaXVcRQgkXkjxvgEghn",
      "include_colab_link": true
    },
    "kernelspec": {
      "name": "python3",
      "display_name": "Python 3"
    },
    "language_info": {
      "name": "python"
    },
    "accelerator": "GPU"
  },
  "cells": [
    {
      "cell_type": "markdown",
      "metadata": {
        "id": "view-in-github",
        "colab_type": "text"
      },
      "source": [
        "<a href=\"https://colab.research.google.com/github/kkkkkkkm/capstone/blob/main/torch_logistic_regression.ipynb\" target=\"_parent\"><img src=\"https://colab.research.google.com/assets/colab-badge.svg\" alt=\"Open In Colab\"/></a>"
      ]
    },
    {
      "cell_type": "code",
      "source": [
        "import torch\n",
        "import torch.nn as nn\n",
        "import torch.nn.functional as F \n",
        "import torch.optim as optim"
      ],
      "metadata": {
        "id": "x6ShWl9ERIfO"
      },
      "execution_count": 1,
      "outputs": []
    },
    {
      "cell_type": "code",
      "source": [
        "torch.manual_seed(1)"
      ],
      "metadata": {
        "colab": {
          "base_uri": "https://localhost:8080/"
        },
        "id": "GGYmVB3jRRTc",
        "outputId": "6d99b4ef-233c-43a8-abe0-c6f78e091d7b"
      },
      "execution_count": 2,
      "outputs": [
        {
          "output_type": "execute_result",
          "data": {
            "text/plain": [
              "<torch._C.Generator at 0x7fe706534530>"
            ]
          },
          "metadata": {},
          "execution_count": 2
        }
      ]
    },
    {
      "cell_type": "code",
      "source": [
        "x_data = [[1, 2], [2, 3], [3, 1], [4, 3], [5, 3], [6, 2]]\n",
        "y_data = [[0], [0], [0], [1], [1], [1]]\n",
        "x_train = torch.FloatTensor(x_data)\n",
        "y_train = torch.FloatTensor(y_data)"
      ],
      "metadata": {
        "id": "gPOb2NdsRUSM"
      },
      "execution_count": 3,
      "outputs": []
    },
    {
      "cell_type": "code",
      "source": [
        "print(x_train.shape)\n",
        "print(y_train.shape)"
      ],
      "metadata": {
        "colab": {
          "base_uri": "https://localhost:8080/"
        },
        "id": "NbzFfC9ARV_c",
        "outputId": "54e805b1-88f9-4f8f-ca2f-4bfef736f45a"
      },
      "execution_count": 4,
      "outputs": [
        {
          "output_type": "stream",
          "name": "stdout",
          "text": [
            "torch.Size([6, 2])\n",
            "torch.Size([6, 1])\n"
          ]
        }
      ]
    },
    {
      "cell_type": "code",
      "source": [
        "w = torch.zeros((2,1), requires_grad= True)\n",
        "b = torch.zeros(1, requires_grad = True)"
      ],
      "metadata": {
        "id": "vkiUNjhKReq0"
      },
      "execution_count": 6,
      "outputs": []
    },
    {
      "cell_type": "code",
      "source": [
        "# 시그모이드 식 구현\n",
        "h = 1 / (1+torch.exp( -(x_train.matmul(w) +b )))"
      ],
      "metadata": {
        "id": "SZZYgJBMRv5U"
      },
      "execution_count": 9,
      "outputs": []
    },
    {
      "cell_type": "code",
      "source": [
        "print(h)"
      ],
      "metadata": {
        "colab": {
          "base_uri": "https://localhost:8080/"
        },
        "id": "__rMVdo7SKRO",
        "outputId": "c8551f47-ce14-488d-d347-4e925b03292b"
      },
      "execution_count": 10,
      "outputs": [
        {
          "output_type": "stream",
          "name": "stdout",
          "text": [
            "tensor([[0.5000],\n",
            "        [0.5000],\n",
            "        [0.5000],\n",
            "        [0.5000],\n",
            "        [0.5000],\n",
            "        [0.5000]], grad_fn=<MulBackward0>)\n"
          ]
        }
      ]
    },
    {
      "cell_type": "code",
      "source": [
        "#torch 제공 시그모이드 \n",
        "sig_h = torch.sigmoid(x_train.matmul(w) + b)"
      ],
      "metadata": {
        "id": "6QxeOQTWSLMU"
      },
      "execution_count": 11,
      "outputs": []
    },
    {
      "cell_type": "code",
      "source": [
        "print(sig_h)"
      ],
      "metadata": {
        "colab": {
          "base_uri": "https://localhost:8080/"
        },
        "id": "zwwIPWIpSwzU",
        "outputId": "b7a63c1e-636a-4c2a-dbe0-8f7f52cc5be7"
      },
      "execution_count": 12,
      "outputs": [
        {
          "output_type": "stream",
          "name": "stdout",
          "text": [
            "tensor([[0.5000],\n",
            "        [0.5000],\n",
            "        [0.5000],\n",
            "        [0.5000],\n",
            "        [0.5000],\n",
            "        [0.5000]], grad_fn=<SigmoidBackward0>)\n"
          ]
        }
      ]
    },
    {
      "cell_type": "code",
      "source": [
        "print(sig_h) #예측값\n",
        "print(y_train) # 실제값"
      ],
      "metadata": {
        "colab": {
          "base_uri": "https://localhost:8080/"
        },
        "id": "f-AdVCwASzUk",
        "outputId": "232635e1-4288-48fd-9938-b331478ac765"
      },
      "execution_count": 13,
      "outputs": [
        {
          "output_type": "stream",
          "name": "stdout",
          "text": [
            "tensor([[0.5000],\n",
            "        [0.5000],\n",
            "        [0.5000],\n",
            "        [0.5000],\n",
            "        [0.5000],\n",
            "        [0.5000]], grad_fn=<SigmoidBackward0>)\n",
            "tensor([[0.],\n",
            "        [0.],\n",
            "        [0.],\n",
            "        [1.],\n",
            "        [1.],\n",
            "        [1.]])\n"
          ]
        }
      ]
    },
    {
      "cell_type": "code",
      "source": [
        "#예측값과 실제값을 이용해 오차율 구하기 cross_entropy 수식 구현\n",
        "#한 경우에서만\n",
        "\n",
        "-( (y_train[0]) * torch.log(sig_h[0]) + (1 - y_train[0]) * torch.log(1 - sig_h[0]) )"
      ],
      "metadata": {
        "colab": {
          "base_uri": "https://localhost:8080/"
        },
        "id": "7-Kj-o7WS8oU",
        "outputId": "2552d7cb-c24a-4e29-cf53-e983d4473c04"
      },
      "execution_count": 15,
      "outputs": [
        {
          "output_type": "execute_result",
          "data": {
            "text/plain": [
              "tensor([0.6931], grad_fn=<NegBackward0>)"
            ]
          },
          "metadata": {},
          "execution_count": 15
        }
      ]
    },
    {
      "cell_type": "code",
      "source": [
        "#전체의 오차율 구하기\n",
        "losses = -( (y_train *  torch.log(sig_h)) + ((1-y_train) * torch.log(1-sig_h)) )"
      ],
      "metadata": {
        "id": "yd0fClhKT_Rb"
      },
      "execution_count": 16,
      "outputs": []
    },
    {
      "cell_type": "code",
      "source": [
        "print(losses.mean())"
      ],
      "metadata": {
        "colab": {
          "base_uri": "https://localhost:8080/"
        },
        "id": "HoKcJFSEVG1L",
        "outputId": "d8abf94d-f3c6-439e-8531-968b48256ada"
      },
      "execution_count": 18,
      "outputs": [
        {
          "output_type": "stream",
          "name": "stdout",
          "text": [
            "tensor(0.6931, grad_fn=<MeanBackward0>)\n"
          ]
        }
      ]
    },
    {
      "cell_type": "code",
      "source": [
        "#라이브러리 제공\n",
        "F.binary_cross_entropy(sig_h, y_train)"
      ],
      "metadata": {
        "colab": {
          "base_uri": "https://localhost:8080/"
        },
        "id": "VF7Q_U9hVJN8",
        "outputId": "258bdf6c-d9cd-4694-adea-34e1cf3207d8"
      },
      "execution_count": 19,
      "outputs": [
        {
          "output_type": "execute_result",
          "data": {
            "text/plain": [
              "tensor(0.6931, grad_fn=<BinaryCrossEntropyBackward0>)"
            ]
          },
          "metadata": {},
          "execution_count": 19
        }
      ]
    },
    {
      "cell_type": "code",
      "source": [
        "model = nn.Sequential(\n",
        "    nn.Linear(2,1),\n",
        "    nn.Sigmoid()\n",
        ")\n",
        "\n",
        "model(x_train)"
      ],
      "metadata": {
        "colab": {
          "base_uri": "https://localhost:8080/"
        },
        "id": "bHXqT7eFVpVd",
        "outputId": "8eff100b-1564-45c5-d940-4f5a00a9b16c"
      },
      "execution_count": 22,
      "outputs": [
        {
          "output_type": "execute_result",
          "data": {
            "text/plain": [
              "tensor([[0.3600],\n",
              "        [0.2872],\n",
              "        [0.6801],\n",
              "        [0.4389],\n",
              "        [0.5216],\n",
              "        [0.7473]], grad_fn=<SigmoidBackward0>)"
            ]
          },
          "metadata": {},
          "execution_count": 22
        }
      ]
    },
    {
      "cell_type": "code",
      "source": [
        "#가중치 확인\n",
        "list(model.parameters())"
      ],
      "metadata": {
        "colab": {
          "base_uri": "https://localhost:8080/"
        },
        "id": "8WU9mb-aWX2l",
        "outputId": "9f70e200-17a7-4b58-a62c-15d2b0dc7a04"
      },
      "execution_count": 29,
      "outputs": [
        {
          "output_type": "execute_result",
          "data": {
            "text/plain": [
              "[Parameter containing:\n",
              " tensor([[ 0.3319, -0.6657]], requires_grad=True), Parameter containing:\n",
              " tensor([0.4241], requires_grad=True)]"
            ]
          },
          "metadata": {},
          "execution_count": 29
        }
      ]
    },
    {
      "cell_type": "code",
      "source": [
        "optimizer = optim.SGD( model.parameters(), lr = 0.01)\n",
        "\n",
        "Epochs = 1000\n",
        "\n",
        "for epoch in range(Epochs + 1):\n",
        "  h = model(x_train)\n",
        "\n",
        "  cost = F.binary_cross_entropy(h, y_train)\n",
        "\n",
        " #기울기 초기화\n",
        "  optimizer.zero_grad()\n",
        "  \n",
        "  #현재 가중치로 기울기 계산\n",
        "  cost.backward()\n",
        "  \n",
        "  # 가중치와 바이어스 업데이트\n",
        "  optimizer.step()\n",
        "\n",
        "  if epoch % 100== 0:\n",
        "    predict = h >= torch.FloatTensor([0.5])\n",
        "    correct_predict = predict.float() == y_train\n",
        "    accuracy = correct_predict.sum().item() / len(correct_predict)\n",
        "    print(\"Epoch : {:4d}/{} , Cost : {:.6f} Accuracy : {:2.2f},\".format(epoch, Epochs, cost.item(), accuracy * 100))\n"
      ],
      "metadata": {
        "colab": {
          "base_uri": "https://localhost:8080/"
        },
        "id": "4nGWkzUvWjyM",
        "outputId": "5da24db9-db67-4ce1-8115-6125770503da"
      },
      "execution_count": 51,
      "outputs": [
        {
          "output_type": "stream",
          "name": "stdout",
          "text": [
            "Epoch :    0/1000 , Cost : 0.182061 Accuracy : 100.00,\n",
            "Epoch :  100/1000 , Cost : 0.180413 Accuracy : 100.00,\n",
            "Epoch :  200/1000 , Cost : 0.178793 Accuracy : 100.00,\n",
            "Epoch :  300/1000 , Cost : 0.177203 Accuracy : 100.00,\n",
            "Epoch :  400/1000 , Cost : 0.175639 Accuracy : 100.00,\n",
            "Epoch :  500/1000 , Cost : 0.174103 Accuracy : 100.00,\n",
            "Epoch :  600/1000 , Cost : 0.172593 Accuracy : 100.00,\n",
            "Epoch :  700/1000 , Cost : 0.171109 Accuracy : 100.00,\n",
            "Epoch :  800/1000 , Cost : 0.169650 Accuracy : 100.00,\n",
            "Epoch :  900/1000 , Cost : 0.168215 Accuracy : 100.00,\n",
            "Epoch : 1000/1000 , Cost : 0.166804 Accuracy : 100.00,\n"
          ]
        }
      ]
    },
    {
      "cell_type": "code",
      "source": [
        "print(list(model.parameters()))"
      ],
      "metadata": {
        "colab": {
          "base_uri": "https://localhost:8080/"
        },
        "id": "b7TViOpQaa6x",
        "outputId": "339b5d33-d9c7-478d-b334-b290dd46e0b1"
      },
      "execution_count": 52,
      "outputs": [
        {
          "output_type": "stream",
          "name": "stdout",
          "text": [
            "[Parameter containing:\n",
            "tensor([[1.3928, 0.2296]], requires_grad=True), Parameter containing:\n",
            "tensor([-5.0741], requires_grad=True)]\n"
          ]
        }
      ]
    },
    {
      "cell_type": "code",
      "source": [
        ""
      ],
      "metadata": {
        "id": "BsP8tcmjarKs"
      },
      "execution_count": null,
      "outputs": []
    }
  ]
}